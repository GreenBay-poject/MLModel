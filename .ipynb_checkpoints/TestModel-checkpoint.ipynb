{
 "cells": [
  {
   "cell_type": "code",
   "execution_count": 3,
   "metadata": {},
   "outputs": [
    {
     "name": "stdout",
     "output_type": "stream",
     "text": [
      "       image_name                                               tags\n",
      "0       file_1449                                      clear primary\n",
      "1      test_19110                              partly_cloudy primary\n",
      "2      file_14872  agriculture clear cultivation habitation prima...\n",
      "3      test_22084                                      clear primary\n",
      "4      file_14649                                clear primary water\n",
      "...           ...                                                ...\n",
      "61186   file_8747              agriculture clear cultivation primary\n",
      "61187  test_21325                           clear primary road water\n",
      "61188  test_22673                                      clear primary\n",
      "61189   file_5377                                      clear primary\n",
      "61190  file_19122       agriculture partly_cloudy primary road water\n",
      "\n",
      "[61191 rows x 2 columns]\n"
     ]
    }
   ],
   "source": [
    "import os\n",
    "import pandas as pd\n",
    "import numpy as np\n",
    "from keras.preprocessing.image import load_img\n",
    "from keras.preprocessing.image import img_to_array\n",
    "\n",
    "df = pd.read_csv (r'Test/submission.csv')\n",
    "print (df)"
   ]
  },
  {
   "cell_type": "code",
   "execution_count": 4,
   "metadata": {},
   "outputs": [],
   "source": [
    "tagdictionary={}\n",
    "columns=(df.tags.tolist())"
   ]
  },
  {
   "cell_type": "code",
   "execution_count": 5,
   "metadata": {},
   "outputs": [
    {
     "name": "stdout",
     "output_type": "stream",
     "text": [
      "[('conventional_mine', 137), ('blow_down', 150), ('blooming', 212), ('slash_burn', 265), ('artisinal_mine', 537), ('selective_logging', 582), ('bare_ground', 1553), ('cloudy', 4179), ('haze', 5317), ('habitation', 6681), ('cultivation', 10331), ('partly_cloudy', 12518), ('water', 12729), ('road', 14626), ('agriculture', 23570), ('clear', 45685), ('primary', 58411)]\n"
     ]
    }
   ],
   "source": [
    "for i in columns:\n",
    "    words=i.split()\n",
    "    for j in words:\n",
    "        if j in tagdictionary.keys():\n",
    "            tagdictionary[j]=tagdictionary[j]+1\n",
    "        else:\n",
    "            tagdictionary[j]=1\n",
    "dactictionarysorted=sorted(tagdictionary.items(),key=lambda x:x[1])\n",
    "print(dactictionarysorted)"
   ]
  },
  {
   "cell_type": "code",
   "execution_count": 6,
   "metadata": {},
   "outputs": [
    {
     "name": "stdout",
     "output_type": "stream",
     "text": [
      "['clear', 'primary', 'partly_cloudy', 'agriculture', 'cultivation', 'habitation', 'road', 'water', 'haze', 'cloudy', 'selective_logging', 'bare_ground', 'artisinal_mine', 'blow_down', 'slash_burn', 'blooming', 'conventional_mine']\n"
     ]
    }
   ],
   "source": [
    "taglist=list(tagdictionary.keys())\n",
    "print(taglist)"
   ]
  },
  {
   "cell_type": "code",
   "execution_count": 7,
   "metadata": {},
   "outputs": [
    {
     "name": "stdout",
     "output_type": "stream",
     "text": [
      "[1 0 0 0 0 0 0 0 0 1 0 0 0 0 0 0 0]\n"
     ]
    }
   ],
   "source": [
    "def encodingbinaryArray(taglist,tags):\n",
    "    encoding=np.zeros(len(taglist),dtype='uint8')\n",
    "    #print(type(encoding))\n",
    "    for tag in tags:\n",
    "        index=taglist.index(tag)\n",
    "        encoding[index]=1\n",
    "    return encoding\n",
    "print(encodingbinaryArray(taglist,[\"clear\",\"cloudy\"]))\n",
    "\n"
   ]
  },
  {
   "cell_type": "code",
   "execution_count": 8,
   "metadata": {},
   "outputs": [
    {
     "name": "stdout",
     "output_type": "stream",
     "text": [
      "['file_1449', 'test_19110', 'file_14872', 'test_22084', 'file_14649', 'test_25653', 'file_9993', 'file_12052', 'file_4863', 'test_29333', 'file_3138', 'test_6636', 'test_10993', 'test_3770', 'test_38812', 'test_5820', 'test_6336', 'file_3652', 'file_16145', 'test_10158']\n",
      "[['clear', 'primary'], ['partly_cloudy', 'primary'], ['agriculture', 'clear', 'cultivation', 'habitation', 'primary', 'road'], ['clear', 'primary'], ['clear', 'primary', 'water'], ['clear', 'primary'], ['clear', 'primary', 'water'], ['agriculture', 'haze', 'primary', 'road', 'water'], ['agriculture', 'clear', 'cultivation', 'haze', 'primary'], ['clear', 'primary'], ['agriculture', 'clear', 'cultivation', 'primary'], ['cloudy', 'partly_cloudy', 'primary'], ['partly_cloudy', 'primary'], ['clear', 'primary'], ['agriculture', 'clear', 'cultivation', 'primary'], ['clear', 'primary'], ['clear', 'primary'], ['partly_cloudy', 'primary'], ['agriculture', 'clear', 'cultivation', 'primary'], ['cloudy']]\n"
     ]
    }
   ],
   "source": [
    "def filePrepare(df):\n",
    "    imgnames=df.image_name.tolist()\n",
    "    tags=[]\n",
    "    for s in df.tags.tolist():\n",
    "        tags.append(s.split(\" \"))\n",
    "    return [imgnames,tags]\n",
    "result=filePrepare(df)\n",
    "print(result[0][0:20])\n",
    "print(result[1][0:20])"
   ]
  },
  {
   "cell_type": "code",
   "execution_count": 9,
   "metadata": {},
   "outputs": [],
   "source": [
    "def encodingBinaryPrepare(tags):\n",
    "    encodedlist=[]\n",
    "    for i in tags:\n",
    "        encodedlist.append(encodingbinaryArray(taglist,i))\n",
    "                        \n",
    "    return encodedlist\n",
    "\n",
    "\n",
    "file_names=result[0]\n",
    "file_tags=encodingBinaryPrepare(result[1]) \n",
    "#print(file_names)\n",
    "#print(file_tags)\n",
    "    "
   ]
  },
  {
   "cell_type": "code",
   "execution_count": 10,
   "metadata": {},
   "outputs": [
    {
     "data": {
      "text/plain": [
       "61191"
      ]
     },
     "execution_count": 10,
     "metadata": {},
     "output_type": "execute_result"
    }
   ],
   "source": [
    "len(file_names)"
   ]
  },
  {
   "cell_type": "code",
   "execution_count": null,
   "metadata": {},
   "outputs": [],
   "source": [
    "def prepare_X_y(path,file_names,file_tags):\n",
    "    photos,codes=list(),list()\n",
    "    i=0\n",
    "    for file_name in file_names:\n",
    "        #dirname = os.path.dirname(__file__)\n",
    "        realfilename = 'Test/test-jpg/'+file_name+'.jpg'\n",
    "        photo=load_img(realfilename,target_size=(96,96))\n",
    "        photo=img_to_array(photo,dtype=\"uint8\")\n",
    "        photos.append(photo)\n",
    "        codes.append(file_tags[i])\n",
    "        i=i+1\n",
    "    \n",
    "    X=np.asarray(photos,dtype='uint8')\n",
    "    y=np.asarray(codes,dtype='uint8')\n",
    "    return X,y\n",
    "X,y=prepare_X_y(\"path\",file_names,file_tags)\n",
    "print(X.shape)\n",
    "print(y.shape)"
   ]
  },
  {
   "cell_type": "code",
   "execution_count": null,
   "metadata": {},
   "outputs": [],
   "source": [
    "np.savez_compressed('Loaded_Images_Tags_For_Testing_Purpose.npz',X,y)"
   ]
  },
  {
   "cell_type": "code",
   "execution_count": null,
   "metadata": {},
   "outputs": [],
   "source": [
    "import sys\n",
    "from numpy import load\n",
    "from matplotlib import pyplot\n",
    "from sklearn.model_selection import train_test_split\n",
    "from keras import backend\n",
    "from keras.preprocessing.image import ImageDataGenerator\n",
    "from keras.models import Sequential\n",
    "from keras.models import load_model\n",
    "from keras.layers import Conv2D\n",
    "from keras.layers import MaxPooling2D\n",
    "from keras.layers import Dense\n",
    "from keras.layers import Dropout\n",
    "from keras.layers import Flatten\n",
    "from keras.optimizers import SGD"
   ]
  },
  {
   "cell_type": "code",
   "execution_count": 13,
   "metadata": {},
   "outputs": [],
   "source": [
    "def fbeta(y_true, y_pred, beta=2):\n",
    "    y_pred = backend.clip(y_pred, 0, 1)\n",
    "    tp = backend.sum(backend.round(backend.clip(y_true * y_pred, 0, 1)), axis=1)\n",
    "    fp = backend.sum(backend.round(backend.clip(y_pred - y_true, 0, 1)), axis=1)\n",
    "    fn = backend.sum(backend.round(backend.clip(y_true - y_pred, 0, 1)), axis=1)\n",
    "    p = tp / (tp + fp + backend.epsilon())\n",
    "    r = tp / (tp + fn + backend.epsilon())\n",
    "    bb = beta ** 2\n",
    "    fbeta_score = backend.mean((1 + bb) * (p * r) / (bb * p + r + backend.epsilon()))\n",
    "    return fbeta_score"
   ]
  },
  {
   "cell_type": "code",
   "execution_count": 86,
   "metadata": {},
   "outputs": [],
   "source": [
    "model=load_model(\"Final_Model/2_Model\",custom_objects={'fbeta':fbeta},compile=False)\n",
    "opt = SGD(lr=0.01, momentum=0.9)\n",
    "model.compile(optimizer=opt, loss='binary_crossentropy', metrics=[fbeta])"
   ]
  },
  {
   "cell_type": "code",
   "execution_count": 79,
   "metadata": {},
   "outputs": [],
   "source": [
    "#model.evaluate(x=X, y=y)"
   ]
  },
  {
   "cell_type": "code",
   "execution_count": 122,
   "metadata": {},
   "outputs": [
    {
     "name": "stdout",
     "output_type": "stream",
     "text": [
      "test_14144\n",
      "['agriculture', 'habitation', 'partly_cloudy', 'primary', 'road']\n",
      "[0 1 1 1 0 1 1 0 0 0 0 0 0 0 0 0 0]\n"
     ]
    },
    {
     "data": {
      "image/png": "[encoded data removed]",
      "text/plain": [
       "<PIL.Image.Image image mode=RGB size=128x128 at 0x20322D21280>"
      ]
     },
     "metadata": {},
     "output_type": "display_data"
    },
    {
     "name": "stdout",
     "output_type": "stream",
     "text": [
      "['primary', 'agriculture', 'cultivation', 'blow_down']\n"
     ]
    }
   ],
   "source": [
    "def predict(i):\n",
    "    print(result[0][i])\n",
    "    print(result[1][i])\n",
    "    print(y[i])\n",
    "    photo=load_img(\"Test/test-jpg/\"+result[0][i]+'.jpg',target_size=(128,128))\n",
    "    display(photo)\n",
    "    l=list(model.predict(X[i:i+1])[0])\n",
    "    tags=[]\n",
    "    for i in range(len(l)):\n",
    "        if(l[i]>=0.5):\n",
    "            tags.append(taglist[i])\n",
    "    print(tags)\n",
    "    \n",
    "predict(458)"
   ]
  }
 ],
 "metadata": {
  "kernelspec": {
   "display_name": "Python 3",
   "language": "python",
   "name": "python3"
  }
 },
 "nbformat": 4,
 "nbformat_minor": 4
}
